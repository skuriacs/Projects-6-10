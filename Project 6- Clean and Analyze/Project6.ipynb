{
 "cells": [
  {
   "cell_type": "markdown",
   "metadata": {
    "collapsed": true
   },
   "source": [
    "# Project Goals\r\n",
    "In this project, we'll play the role of data analyst and pretend our stakeholders want to know the following:\r\n",
    "\r\n",
    "- Are employees who only worked for the institutes for a short period of time resigning due to some kind of dissatisfaction? What about employees who have been there longer?\r\n",
    "- Are younger employees resigning due to some kind of dissatisfaction? What about older employees?"
   ]
  },
  {
   "cell_type": "code",
   "execution_count": null,
   "metadata": {},
   "outputs": [],
   "source": [
    "import pandas as pd\r\n",
    "dete_survey = pd.read_csv(\"dete_survey.csv\", na_values = 'Not Stated')\r\n",
    "tafe_survey= pd.read_csv(\"tafe_survey.csv\")\r\n",
    "dete_survey.info()\r\n",
    "tafe_survey.info()"
   ]
  },
  {
   "cell_type": "code",
   "execution_count": null,
   "metadata": {},
   "outputs": [],
   "source": [
    "print(dete_survey.head())\r\n",
    "print(tafe_survey.head())"
   ]
  },
  {
   "cell_type": "code",
   "execution_count": null,
   "metadata": {},
   "outputs": [],
   "source": [
    "print(dete_survey.isnull().sum())\r\n",
    "print(tafe_survey.isnull().sum())"
   ]
  },
  {
   "cell_type": "markdown",
   "metadata": {},
   "source": [
    "There are a bunch of columns we don't need to answer our original questions, so we're going to drop them to make the data set a bit easier to handle"
   ]
  },
  {
   "cell_type": "code",
   "execution_count": 17,
   "metadata": {},
   "outputs": [],
   "source": [
    "dete_survey_updated = dete_survey.drop(dete_survey.columns[28:49], axis = 1)\r\n",
    "tafe_survey_updated= tafe_survey.drop(tafe_survey.columns[28:49], axis = 1)"
   ]
  },
  {
   "cell_type": "code",
   "execution_count": 18,
   "metadata": {},
   "outputs": [
    {
     "name": "stdout",
     "output_type": "stream",
     "text": [
      "<class 'pandas.core.frame.DataFrame'>\n",
      "RangeIndex: 822 entries, 0 to 821\n",
      "Data columns (total 35 columns):\n",
      " #   Column                               Non-Null Count  Dtype  \n",
      "---  ------                               --------------  -----  \n",
      " 0   ID                                   822 non-null    int64  \n",
      " 1   SeparationType                       822 non-null    object \n",
      " 2   Cease Date                           788 non-null    object \n",
      " 3   DETE Start Date                      749 non-null    float64\n",
      " 4   Role Start Date                      724 non-null    float64\n",
      " 5   Position                             817 non-null    object \n",
      " 6   Classification                       455 non-null    object \n",
      " 7   Region                               717 non-null    object \n",
      " 8   Business Unit                        126 non-null    object \n",
      " 9   Employment Status                    817 non-null    object \n",
      " 10  Career move to public sector         822 non-null    bool   \n",
      " 11  Career move to private sector        822 non-null    bool   \n",
      " 12  Interpersonal conflicts              822 non-null    bool   \n",
      " 13  Job dissatisfaction                  822 non-null    bool   \n",
      " 14  Dissatisfaction with the department  822 non-null    bool   \n",
      " 15  Physical work environment            822 non-null    bool   \n",
      " 16  Lack of recognition                  822 non-null    bool   \n",
      " 17  Lack of job security                 822 non-null    bool   \n",
      " 18  Work location                        822 non-null    bool   \n",
      " 19  Employment conditions                822 non-null    bool   \n",
      " 20  Maternity/family                     822 non-null    bool   \n",
      " 21  Relocation                           822 non-null    bool   \n",
      " 22  Study/Travel                         822 non-null    bool   \n",
      " 23  Ill Health                           822 non-null    bool   \n",
      " 24  Traumatic incident                   822 non-null    bool   \n",
      " 25  Work life balance                    822 non-null    bool   \n",
      " 26  Workload                             822 non-null    bool   \n",
      " 27  None of the above                    822 non-null    bool   \n",
      " 28  Gender                               798 non-null    object \n",
      " 29  Age                                  811 non-null    object \n",
      " 30  Aboriginal                           16 non-null     object \n",
      " 31  Torres Strait                        3 non-null      object \n",
      " 32  South Sea                            7 non-null      object \n",
      " 33  Disability                           23 non-null     object \n",
      " 34  NESB                                 32 non-null     object \n",
      "dtypes: bool(18), float64(2), int64(1), object(14)\n",
      "memory usage: 123.7+ KB\n",
      "<class 'pandas.core.frame.DataFrame'>\n",
      "RangeIndex: 702 entries, 0 to 701\n",
      "Data columns (total 51 columns):\n",
      " #   Column                                                                                                           Non-Null Count  Dtype  \n",
      "---  ------                                                                                                           --------------  -----  \n",
      " 0   Record ID                                                                                                        702 non-null    float64\n",
      " 1   Institute                                                                                                        702 non-null    object \n",
      " 2   WorkArea                                                                                                         702 non-null    object \n",
      " 3   CESSATION YEAR                                                                                                   695 non-null    float64\n",
      " 4   Reason for ceasing employment                                                                                    701 non-null    object \n",
      " 5   Contributing Factors. Career Move - Public Sector                                                                437 non-null    object \n",
      " 6   Contributing Factors. Career Move - Private Sector                                                               437 non-null    object \n",
      " 7   Contributing Factors. Career Move - Self-employment                                                              437 non-null    object \n",
      " 8   Contributing Factors. Ill Health                                                                                 437 non-null    object \n",
      " 9   Contributing Factors. Maternity/Family                                                                           437 non-null    object \n",
      " 10  Contributing Factors. Dissatisfaction                                                                            437 non-null    object \n",
      " 11  Contributing Factors. Job Dissatisfaction                                                                        437 non-null    object \n",
      " 12  Contributing Factors. Interpersonal Conflict                                                                     437 non-null    object \n",
      " 13  Contributing Factors. Study                                                                                      437 non-null    object \n",
      " 14  Contributing Factors. Travel                                                                                     437 non-null    object \n",
      " 15  Contributing Factors. Other                                                                                      437 non-null    object \n",
      " 16  Contributing Factors. NONE                                                                                       437 non-null    object \n",
      " 17  Main Factor. Which of these was the main factor for leaving?                                                     113 non-null    object \n",
      " 18  InstituteViews. Topic:1. I feel the senior leadership had a clear vision and direction                           608 non-null    object \n",
      " 19  InstituteViews. Topic:2. I was given access to skills training to help me do my job better                       613 non-null    object \n",
      " 20  InstituteViews. Topic:3. I was given adequate opportunities for personal development                             610 non-null    object \n",
      " 21  InstituteViews. Topic:4. I was given adequate opportunities for promotion within %Institute]Q25LBL%              608 non-null    object \n",
      " 22  InstituteViews. Topic:5. I felt the salary for the job was right for the responsibilities I had                  615 non-null    object \n",
      " 23  InstituteViews. Topic:6. The organisation recognised when staff did good work                                    607 non-null    object \n",
      " 24  InstituteViews. Topic:7. Management was generally supportive of me                                               614 non-null    object \n",
      " 25  InstituteViews. Topic:8. Management was generally supportive of my team                                          608 non-null    object \n",
      " 26  InstituteViews. Topic:9. I was kept informed of the changes in the organisation which would affect me            610 non-null    object \n",
      " 27  InstituteViews. Topic:10. Staff morale was positive within the Institute                                         602 non-null    object \n",
      " 28  InductionInfo. Topic:Did you undertake a Corporate Induction?                                                    432 non-null    object \n",
      " 29  InductionInfo. Topic:Did you undertake a Institute Induction?                                                    483 non-null    object \n",
      " 30  InductionInfo. Topic: Did you undertake Team Induction?                                                          440 non-null    object \n",
      " 31  InductionInfo. Face to Face Topic:Did you undertake a Corporate Induction; Category:How it was conducted?        555 non-null    object \n",
      " 32  InductionInfo. On-line Topic:Did you undertake a Corporate Induction; Category:How it was conducted?             555 non-null    object \n",
      " 33  InductionInfo. Induction Manual Topic:Did you undertake a Corporate Induction?                                   555 non-null    object \n",
      " 34  InductionInfo. Face to Face Topic:Did you undertake a Institute Induction?                                       530 non-null    object \n",
      " 35  InductionInfo. On-line Topic:Did you undertake a Institute Induction?                                            555 non-null    object \n",
      " 36  InductionInfo. Induction Manual Topic:Did you undertake a Institute Induction?                                   553 non-null    object \n",
      " 37  InductionInfo. Face to Face Topic: Did you undertake Team Induction; Category?                                   555 non-null    object \n",
      " 38  InductionInfo. On-line Topic: Did you undertake Team Induction?process you undertook and how it was conducted.]  555 non-null    object \n",
      " 39  InductionInfo. Induction Manual Topic: Did you undertake Team Induction?                                         555 non-null    object \n",
      " 40  Workplace. Topic:Did you and your Manager develop a Performance and Professional Development Plan (PPDP)?        608 non-null    object \n",
      " 41  Workplace. Topic:Does your workplace promote a work culture free from all forms of unlawful discrimination?      594 non-null    object \n",
      " 42  Workplace. Topic:Does your workplace promote and practice the principles of employment equity?                   587 non-null    object \n",
      " 43  Workplace. Topic:Does your workplace value the diversity of its employees?                                       586 non-null    object \n",
      " 44  Workplace. Topic:Would you recommend the Institute as an employer to others?                                     581 non-null    object \n",
      " 45  Gender. What is your Gender?                                                                                     596 non-null    object \n",
      " 46  CurrentAge. Current Age                                                                                          596 non-null    object \n",
      " 47  Employment Type. Employment Type                                                                                 596 non-null    object \n",
      " 48  Classification. Classification                                                                                   596 non-null    object \n",
      " 49  LengthofServiceOverall. Overall Length of Service at Institute (in years)                                        596 non-null    object \n",
      " 50  LengthofServiceCurrent. Length of Service at current workplace (in years)                                        596 non-null    object \n",
      "dtypes: float64(2), object(49)\n",
      "memory usage: 279.8+ KB\n"
     ]
    }
   ],
   "source": [
    "dete_survey_updated.info()\r\n",
    "tafe_survey_updated.info()"
   ]
  },
  {
   "cell_type": "code",
   "execution_count": null,
   "metadata": {},
   "outputs": [],
   "source": []
  }
 ],
 "metadata": {
  "interpreter": {
   "hash": "ac59ebe37160ed0dfa835113d9b8498d9f09ceb179beaac4002f036b9467c963"
  },
  "kernelspec": {
   "display_name": "Python 3.9.2 64-bit",
   "name": "python3"
  },
  "language_info": {
   "codemirror_mode": {
    "name": "ipython",
    "version": 3
   },
   "file_extension": ".py",
   "mimetype": "text/x-python",
   "name": "python",
   "nbconvert_exporter": "python",
   "pygments_lexer": "ipython3",
   "version": "3.9.2"
  }
 },
 "nbformat": 4,
 "nbformat_minor": 2
}